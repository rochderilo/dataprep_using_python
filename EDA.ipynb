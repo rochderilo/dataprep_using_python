{
 "cells": [
  {
   "attachments": {},
   "cell_type": "markdown",
   "metadata": {},
   "source": [
    "1. Load tools and the data, preliminary inspection"
   ]
  },
  {
   "cell_type": "code",
   "execution_count": 1,
   "metadata": {},
   "outputs": [],
   "source": [
    "import pandas as pd"
   ]
  },
  {
   "cell_type": "code",
   "execution_count": 2,
   "metadata": {},
   "outputs": [],
   "source": [
    "#open file\n",
    "df = pd.read_csv('communications.csv')"
   ]
  },
  {
   "cell_type": "code",
   "execution_count": 3,
   "metadata": {},
   "outputs": [
    {
     "data": {
      "text/plain": [
       "(145941, 15)"
      ]
     },
     "execution_count": 3,
     "metadata": {},
     "output_type": "execute_result"
    }
   ],
   "source": [
    "#number of rows and columns\n",
    "df.shape"
   ]
  },
  {
   "cell_type": "code",
   "execution_count": 4,
   "metadata": {},
   "outputs": [
    {
     "data": {
      "text/html": [
       "<div>\n",
       "<style scoped>\n",
       "    .dataframe tbody tr th:only-of-type {\n",
       "        vertical-align: middle;\n",
       "    }\n",
       "\n",
       "    .dataframe tbody tr th {\n",
       "        vertical-align: top;\n",
       "    }\n",
       "\n",
       "    .dataframe thead th {\n",
       "        text-align: right;\n",
       "    }\n",
       "</style>\n",
       "<table border=\"1\" class=\"dataframe\">\n",
       "  <thead>\n",
       "    <tr style=\"text-align: right;\">\n",
       "      <th></th>\n",
       "      <th>message_id</th>\n",
       "      <th>customer_id</th>\n",
       "      <th>sent_at</th>\n",
       "      <th>clicked</th>\n",
       "      <th>converted</th>\n",
       "      <th>client_id</th>\n",
       "      <th>gender</th>\n",
       "      <th>customer_country</th>\n",
       "      <th>age</th>\n",
       "      <th>created_at</th>\n",
       "      <th>client_name</th>\n",
       "      <th>product_type</th>\n",
       "      <th>client_country</th>\n",
       "      <th>channel</th>\n",
       "      <th>message_number</th>\n",
       "    </tr>\n",
       "  </thead>\n",
       "  <tbody>\n",
       "    <tr>\n",
       "      <th>0</th>\n",
       "      <td>28d82c62db5989d9441351f58738c6a8</td>\n",
       "      <td>f13e966f9dc1e2aa7bffec6c9efa8e11</td>\n",
       "      <td>2021-01-04 10:03:16.376000+00:00</td>\n",
       "      <td>0</td>\n",
       "      <td>0</td>\n",
       "      <td>cfcd208495d565ef66e7dff9f98764da</td>\n",
       "      <td>F</td>\n",
       "      <td>NaN</td>\n",
       "      <td>51.0</td>\n",
       "      <td>2021-01-03 15:58:50.376000+00:00</td>\n",
       "      <td>SwanPay</td>\n",
       "      <td>BNPL</td>\n",
       "      <td>UK</td>\n",
       "      <td>SMS</td>\n",
       "      <td>1.0</td>\n",
       "    </tr>\n",
       "    <tr>\n",
       "      <th>1</th>\n",
       "      <td>0f98a1bbf7f2b66f420816a65c8d9b77</td>\n",
       "      <td>f13e966f9dc1e2aa7bffec6c9efa8e11</td>\n",
       "      <td>2021-01-12 08:34:09.376000+00:00</td>\n",
       "      <td>0</td>\n",
       "      <td>0</td>\n",
       "      <td>cfcd208495d565ef66e7dff9f98764da</td>\n",
       "      <td>F</td>\n",
       "      <td>NaN</td>\n",
       "      <td>51.0</td>\n",
       "      <td>2021-01-03 15:58:50.376000+00:00</td>\n",
       "      <td>SwanPay</td>\n",
       "      <td>BNPL</td>\n",
       "      <td>UK</td>\n",
       "      <td>SMS</td>\n",
       "      <td>2.0</td>\n",
       "    </tr>\n",
       "    <tr>\n",
       "      <th>2</th>\n",
       "      <td>97f9ed967d2334ce0b4ebfcfc9b5c25c</td>\n",
       "      <td>f13e966f9dc1e2aa7bffec6c9efa8e11</td>\n",
       "      <td>2021-01-19 08:58:11.376000+00:00</td>\n",
       "      <td>0</td>\n",
       "      <td>0</td>\n",
       "      <td>cfcd208495d565ef66e7dff9f98764da</td>\n",
       "      <td>F</td>\n",
       "      <td>NaN</td>\n",
       "      <td>51.0</td>\n",
       "      <td>2021-01-03 15:58:50.376000+00:00</td>\n",
       "      <td>SwanPay</td>\n",
       "      <td>BNPL</td>\n",
       "      <td>UK</td>\n",
       "      <td>Email</td>\n",
       "      <td>3.0</td>\n",
       "    </tr>\n",
       "  </tbody>\n",
       "</table>\n",
       "</div>"
      ],
      "text/plain": [
       "                         message_id                       customer_id  \\\n",
       "0  28d82c62db5989d9441351f58738c6a8  f13e966f9dc1e2aa7bffec6c9efa8e11   \n",
       "1  0f98a1bbf7f2b66f420816a65c8d9b77  f13e966f9dc1e2aa7bffec6c9efa8e11   \n",
       "2  97f9ed967d2334ce0b4ebfcfc9b5c25c  f13e966f9dc1e2aa7bffec6c9efa8e11   \n",
       "\n",
       "                            sent_at  clicked  converted  \\\n",
       "0  2021-01-04 10:03:16.376000+00:00        0          0   \n",
       "1  2021-01-12 08:34:09.376000+00:00        0          0   \n",
       "2  2021-01-19 08:58:11.376000+00:00        0          0   \n",
       "\n",
       "                          client_id gender customer_country   age  \\\n",
       "0  cfcd208495d565ef66e7dff9f98764da      F              NaN  51.0   \n",
       "1  cfcd208495d565ef66e7dff9f98764da      F              NaN  51.0   \n",
       "2  cfcd208495d565ef66e7dff9f98764da      F              NaN  51.0   \n",
       "\n",
       "                         created_at client_name product_type client_country  \\\n",
       "0  2021-01-03 15:58:50.376000+00:00     SwanPay         BNPL             UK   \n",
       "1  2021-01-03 15:58:50.376000+00:00     SwanPay         BNPL             UK   \n",
       "2  2021-01-03 15:58:50.376000+00:00     SwanPay         BNPL             UK   \n",
       "\n",
       "  channel  message_number  \n",
       "0     SMS             1.0  \n",
       "1     SMS             2.0  \n",
       "2   Email             3.0  "
      ]
     },
     "execution_count": 4,
     "metadata": {},
     "output_type": "execute_result"
    }
   ],
   "source": [
    "#show first few rows\n",
    "df.head(3)"
   ]
  },
  {
   "cell_type": "code",
   "execution_count": 5,
   "metadata": {},
   "outputs": [
    {
     "data": {
      "text/html": [
       "<div>\n",
       "<style scoped>\n",
       "    .dataframe tbody tr th:only-of-type {\n",
       "        vertical-align: middle;\n",
       "    }\n",
       "\n",
       "    .dataframe tbody tr th {\n",
       "        vertical-align: top;\n",
       "    }\n",
       "\n",
       "    .dataframe thead th {\n",
       "        text-align: right;\n",
       "    }\n",
       "</style>\n",
       "<table border=\"1\" class=\"dataframe\">\n",
       "  <thead>\n",
       "    <tr style=\"text-align: right;\">\n",
       "      <th></th>\n",
       "      <th>message_id</th>\n",
       "      <th>customer_id</th>\n",
       "      <th>sent_at</th>\n",
       "      <th>clicked</th>\n",
       "      <th>converted</th>\n",
       "      <th>client_id</th>\n",
       "      <th>gender</th>\n",
       "      <th>customer_country</th>\n",
       "      <th>age</th>\n",
       "      <th>created_at</th>\n",
       "      <th>client_name</th>\n",
       "      <th>product_type</th>\n",
       "      <th>client_country</th>\n",
       "      <th>channel</th>\n",
       "      <th>message_number</th>\n",
       "    </tr>\n",
       "  </thead>\n",
       "  <tbody>\n",
       "    <tr>\n",
       "      <th>145938</th>\n",
       "      <td>cc0fffcd2b61f6d042b57dee6ac708b1</td>\n",
       "      <td>21a0b5def79c5b2d66e9ad4c0cc3fb3b</td>\n",
       "      <td>2021-10-01 12:48:57.220000+00:00</td>\n",
       "      <td>0</td>\n",
       "      <td>0</td>\n",
       "      <td>e4da3b7fbbce2345d7772b0674a318d5</td>\n",
       "      <td>M</td>\n",
       "      <td>CA</td>\n",
       "      <td>55.0</td>\n",
       "      <td>2021-09-24 11:09:14.220000+00:00</td>\n",
       "      <td>Beaver Bank</td>\n",
       "      <td>CreditCard</td>\n",
       "      <td>CA</td>\n",
       "      <td>SMS</td>\n",
       "      <td>1.0</td>\n",
       "    </tr>\n",
       "    <tr>\n",
       "      <th>145939</th>\n",
       "      <td>fa847a2010017f81261bbc19f2b7819e</td>\n",
       "      <td>ecd70b4e32b3b7496c8070acf0b98965</td>\n",
       "      <td>2021-10-01 13:33:02.070000+00:00</td>\n",
       "      <td>0</td>\n",
       "      <td>0</td>\n",
       "      <td>e4da3b7fbbce2345d7772b0674a318d5</td>\n",
       "      <td>M</td>\n",
       "      <td>CA</td>\n",
       "      <td>54.0</td>\n",
       "      <td>2021-09-22 10:44:41.070000+00:00</td>\n",
       "      <td>Beaver Bank</td>\n",
       "      <td>CreditCard</td>\n",
       "      <td>CA</td>\n",
       "      <td>Email</td>\n",
       "      <td>1.0</td>\n",
       "    </tr>\n",
       "    <tr>\n",
       "      <th>145940</th>\n",
       "      <td>7c1f417c29ed7c451a1046114c26e0e7</td>\n",
       "      <td>fba02d3eecbb0049ba97bf869ffdf260</td>\n",
       "      <td>2021-10-01 16:10:08.646000+00:00</td>\n",
       "      <td>0</td>\n",
       "      <td>0</td>\n",
       "      <td>e4da3b7fbbce2345d7772b0674a318d5</td>\n",
       "      <td>M</td>\n",
       "      <td>CA</td>\n",
       "      <td>60.0</td>\n",
       "      <td>2021-09-21 11:35:53.646000+00:00</td>\n",
       "      <td>Beaver Bank</td>\n",
       "      <td>CreditCard</td>\n",
       "      <td>CA</td>\n",
       "      <td>SMS</td>\n",
       "      <td>1.0</td>\n",
       "    </tr>\n",
       "  </tbody>\n",
       "</table>\n",
       "</div>"
      ],
      "text/plain": [
       "                              message_id                       customer_id  \\\n",
       "145938  cc0fffcd2b61f6d042b57dee6ac708b1  21a0b5def79c5b2d66e9ad4c0cc3fb3b   \n",
       "145939  fa847a2010017f81261bbc19f2b7819e  ecd70b4e32b3b7496c8070acf0b98965   \n",
       "145940  7c1f417c29ed7c451a1046114c26e0e7  fba02d3eecbb0049ba97bf869ffdf260   \n",
       "\n",
       "                                 sent_at  clicked  converted  \\\n",
       "145938  2021-10-01 12:48:57.220000+00:00        0          0   \n",
       "145939  2021-10-01 13:33:02.070000+00:00        0          0   \n",
       "145940  2021-10-01 16:10:08.646000+00:00        0          0   \n",
       "\n",
       "                               client_id gender customer_country   age  \\\n",
       "145938  e4da3b7fbbce2345d7772b0674a318d5      M               CA  55.0   \n",
       "145939  e4da3b7fbbce2345d7772b0674a318d5      M               CA  54.0   \n",
       "145940  e4da3b7fbbce2345d7772b0674a318d5      M               CA  60.0   \n",
       "\n",
       "                              created_at  client_name product_type  \\\n",
       "145938  2021-09-24 11:09:14.220000+00:00  Beaver Bank   CreditCard   \n",
       "145939  2021-09-22 10:44:41.070000+00:00  Beaver Bank   CreditCard   \n",
       "145940  2021-09-21 11:35:53.646000+00:00  Beaver Bank   CreditCard   \n",
       "\n",
       "       client_country channel  message_number  \n",
       "145938             CA     SMS             1.0  \n",
       "145939             CA   Email             1.0  \n",
       "145940             CA     SMS             1.0  "
      ]
     },
     "execution_count": 5,
     "metadata": {},
     "output_type": "execute_result"
    }
   ],
   "source": [
    "#show last few rows\n",
    "df.tail(3)"
   ]
  },
  {
   "cell_type": "code",
   "execution_count": 6,
   "metadata": {},
   "outputs": [
    {
     "name": "stdout",
     "output_type": "stream",
     "text": [
      "<class 'pandas.core.frame.DataFrame'>\n",
      "RangeIndex: 145941 entries, 0 to 145940\n",
      "Data columns (total 15 columns):\n",
      " #   Column            Non-Null Count   Dtype  \n",
      "---  ------            --------------   -----  \n",
      " 0   message_id        145941 non-null  object \n",
      " 1   customer_id       145941 non-null  object \n",
      " 2   sent_at           145941 non-null  object \n",
      " 3   clicked           145941 non-null  int64  \n",
      " 4   converted         145941 non-null  int64  \n",
      " 5   client_id         145941 non-null  object \n",
      " 6   gender            114265 non-null  object \n",
      " 7   customer_country  115795 non-null  object \n",
      " 8   age               123921 non-null  float64\n",
      " 9   created_at        145941 non-null  object \n",
      " 10  client_name       145941 non-null  object \n",
      " 11  product_type      145941 non-null  object \n",
      " 12  client_country    145941 non-null  object \n",
      " 13  channel           145941 non-null  object \n",
      " 14  message_number    145941 non-null  float64\n",
      "dtypes: float64(2), int64(2), object(11)\n",
      "memory usage: 16.7+ MB\n"
     ]
    }
   ],
   "source": [
    "#inspect columns and field data types\n",
    "df.info()"
   ]
  },
  {
   "cell_type": "code",
   "execution_count": 7,
   "metadata": {},
   "outputs": [
    {
     "name": "stdout",
     "output_type": "stream",
     "text": [
      "0\n"
     ]
    }
   ],
   "source": [
    "#check for duplicates\n",
    "\n",
    "dupe_count = len(df[df.duplicated()])\n",
    "print(dupe_count)"
   ]
  },
  {
   "cell_type": "code",
   "execution_count": 8,
   "metadata": {},
   "outputs": [
    {
     "name": "stdout",
     "output_type": "stream",
     "text": [
      "                  Total Missing  % Missing\n",
      "gender                    31676  21.704661\n",
      "customer_country          30146  20.656293\n",
      "age                       22020  15.088289\n",
      "message_id                    0   0.000000\n",
      "customer_id                   0   0.000000\n",
      "sent_at                       0   0.000000\n",
      "clicked                       0   0.000000\n",
      "converted                     0   0.000000\n",
      "client_id                     0   0.000000\n",
      "created_at                    0   0.000000\n",
      "client_name                   0   0.000000\n",
      "product_type                  0   0.000000\n",
      "client_country                0   0.000000\n",
      "channel                       0   0.000000\n",
      "message_number                0   0.000000\n"
     ]
    }
   ],
   "source": [
    "#check for missing values\n",
    "nullval = df.isnull().sum().sort_values(ascending=False)\n",
    "percent = (df.isnull().sum()/df.isnull().count()).sort_values(ascending=False) * 100\n",
    "missing = pd.concat([nullval, percent], axis=1, keys=['Total Missing', '% Missing'])\n",
    "\n",
    "print(missing)"
   ]
  },
  {
   "cell_type": "code",
   "execution_count": 9,
   "metadata": {},
   "outputs": [
    {
     "data": {
      "text/plain": [
       "M      57655\n",
       "F      56610\n",
       "NaN    31676\n",
       "Name: gender, dtype: int64"
      ]
     },
     "execution_count": 9,
     "metadata": {},
     "output_type": "execute_result"
    }
   ],
   "source": [
    "#inspect column 'gender'\n",
    "df['gender'].value_counts(dropna=False)"
   ]
  },
  {
   "cell_type": "code",
   "execution_count": 10,
   "metadata": {},
   "outputs": [
    {
     "data": {
      "text/plain": [
       "UK     49146\n",
       "CA     33911\n",
       "NZ     32738\n",
       "NaN    30146\n",
       "Name: customer_country, dtype: int64"
      ]
     },
     "execution_count": 10,
     "metadata": {},
     "output_type": "execute_result"
    }
   ],
   "source": [
    "#inspect column 'customer_country'\n",
    "df['customer_country'].value_counts(dropna=False)"
   ]
  },
  {
   "cell_type": "code",
   "execution_count": 11,
   "metadata": {},
   "outputs": [
    {
     "data": {
      "text/plain": [
       "NaN     22020\n",
       "51.0    11736\n",
       "24.0     4499\n",
       "22.0     4478\n",
       "25.0     4291\n",
       "        ...  \n",
       "91.0      148\n",
       "95.0      131\n",
       "94.0      100\n",
       "93.0       85\n",
       "96.0       10\n",
       "Name: age, Length: 80, dtype: int64"
      ]
     },
     "execution_count": 11,
     "metadata": {},
     "output_type": "execute_result"
    }
   ],
   "source": [
    "#inspect column 'age'\n",
    "df['age'].value_counts(dropna=False)"
   ]
  },
  {
   "cell_type": "code",
   "execution_count": 12,
   "metadata": {},
   "outputs": [
    {
     "data": {
      "text/plain": [
       "count    123921.000000\n",
       "mean         43.041857\n",
       "std          17.772985\n",
       "min          18.000000\n",
       "25%          26.000000\n",
       "50%          44.000000\n",
       "75%          55.000000\n",
       "max          96.000000\n",
       "Name: age, dtype: float64"
      ]
     },
     "execution_count": 12,
     "metadata": {},
     "output_type": "execute_result"
    }
   ],
   "source": [
    "#check the range of values in age\n",
    "\n",
    "df['age'].describe()\n"
   ]
  },
  {
   "cell_type": "code",
   "execution_count": 13,
   "metadata": {},
   "outputs": [
    {
     "data": {
      "text/plain": [
       "28d82c62db5989d9441351f58738c6a8    1\n",
       "946bc345190b66c945fd015ee9520c18    1\n",
       "351d075c4d621caa3b7d935d1a373a30    1\n",
       "0ae9bc13521ea84e99f253b685a7f346    1\n",
       "ee9c7fa4c769477e9a5e6bde5ecdbea4    1\n",
       "                                   ..\n",
       "551084d5bdd5844bb3d6918440462480    1\n",
       "ebc5958355640a2c8a5bdc11b2937108    1\n",
       "a693dd9510fd0e63cb164a4ffba7f55e    1\n",
       "74cb6c73f48ea6f8c2a6ed9e3b5cf6c6    1\n",
       "7c1f417c29ed7c451a1046114c26e0e7    1\n",
       "Name: message_id, Length: 145941, dtype: int64"
      ]
     },
     "execution_count": 13,
     "metadata": {},
     "output_type": "execute_result"
    }
   ],
   "source": [
    "#inspect column 'message_id'\n",
    "df['message_id'].value_counts(dropna=False)"
   ]
  },
  {
   "cell_type": "code",
   "execution_count": 14,
   "metadata": {},
   "outputs": [
    {
     "data": {
      "text/plain": [
       "a40ee72e10612613885de1208e1b9500    39\n",
       "fdadb8fadedda0a37a7ba5677d9a871a    39\n",
       "c119a399d09a8774a8e3c05ad8519029    39\n",
       "3d8d8864b7b853bbd47329484c9cc072    39\n",
       "bdcefdcae7c32bda6fdfed13ccbe08c7    39\n",
       "                                    ..\n",
       "38a4273f2b928029b72def5ca866dc2a     1\n",
       "734b250ebb3f5ff9e6c94c459c4a1f35     1\n",
       "fb52e497d957f323b4a76ade17becba6     1\n",
       "f90c066ab24a72a73e13f8622193c1a0     1\n",
       "fba02d3eecbb0049ba97bf869ffdf260     1\n",
       "Name: customer_id, Length: 9751, dtype: int64"
      ]
     },
     "execution_count": 14,
     "metadata": {},
     "output_type": "execute_result"
    }
   ],
   "source": [
    "#inspect column 'customer_id'\n",
    "df['customer_id'].value_counts(dropna=False)"
   ]
  },
  {
   "cell_type": "code",
   "execution_count": 15,
   "metadata": {},
   "outputs": [
    {
     "data": {
      "text/plain": [
       "2021-09-29 09:49:26.507000+00:00    2\n",
       "2021-06-16 09:30:34.316000+00:00    2\n",
       "2021-06-29 11:03:28.273000+00:00    2\n",
       "2021-09-17 12:23:14.671000+00:00    2\n",
       "2021-01-04 10:03:16.376000+00:00    1\n",
       "                                   ..\n",
       "2021-09-22 12:58:32.834000+00:00    1\n",
       "2021-09-15 09:49:35.834000+00:00    1\n",
       "2021-09-10 11:30:26.834000+00:00    1\n",
       "2021-09-03 08:14:23.834000+00:00    1\n",
       "2021-10-01 16:10:08.646000+00:00    1\n",
       "Name: sent_at, Length: 145937, dtype: int64"
      ]
     },
     "execution_count": 15,
     "metadata": {},
     "output_type": "execute_result"
    }
   ],
   "source": [
    "#inspect column 'sent_at'\n",
    "df['sent_at'].value_counts(dropna=False)"
   ]
  },
  {
   "cell_type": "code",
   "execution_count": 16,
   "metadata": {},
   "outputs": [
    {
     "data": {
      "text/plain": [
       "0    136567\n",
       "1      9374\n",
       "Name: clicked, dtype: int64"
      ]
     },
     "execution_count": 16,
     "metadata": {},
     "output_type": "execute_result"
    }
   ],
   "source": [
    "#inspect column 'clicked'\n",
    "df['clicked'].value_counts(dropna=False)"
   ]
  },
  {
   "cell_type": "code",
   "execution_count": 17,
   "metadata": {},
   "outputs": [
    {
     "data": {
      "text/plain": [
       "0    142799\n",
       "1      3142\n",
       "Name: converted, dtype: int64"
      ]
     },
     "execution_count": 17,
     "metadata": {},
     "output_type": "execute_result"
    }
   ],
   "source": [
    "#inspect column 'converted'\n",
    "df['converted'].value_counts(dropna=False)"
   ]
  },
  {
   "cell_type": "code",
   "execution_count": 18,
   "metadata": {},
   "outputs": [
    {
     "data": {
      "text/plain": [
       "cfcd208495d565ef66e7dff9f98764da    36110\n",
       "c81e728d9d4c2f636f067f89cc14862c    29007\n",
       "eccbc87e4b5ce2fe28308fd9f2a7baf3    20876\n",
       "c4ca4238a0b923820dcc509a6f75849b    17137\n",
       "e4da3b7fbbce2345d7772b0674a318d5    12408\n",
       "1679091c5a880faf6fb5e6087eb1b2dc    12396\n",
       "a87ff679a2f3e71d9181a67b7542122c     9904\n",
       "8f14e45fceea167a5a36dedd4bea2543     8103\n",
       "Name: client_id, dtype: int64"
      ]
     },
     "execution_count": 18,
     "metadata": {},
     "output_type": "execute_result"
    }
   ],
   "source": [
    "#inspect column 'client_id'\n",
    "df['client_id'].value_counts(dropna=False)"
   ]
  },
  {
   "cell_type": "code",
   "execution_count": 19,
   "metadata": {},
   "outputs": [
    {
     "data": {
      "text/plain": [
       "2021-01-01 00:10:23.616000+00:00    39\n",
       "2021-01-02 00:57:39.405000+00:00    39\n",
       "2021-01-03 19:28:12.644000+00:00    39\n",
       "2021-01-02 18:24:34.060000+00:00    39\n",
       "2021-01-02 02:25:01.520000+00:00    39\n",
       "                                    ..\n",
       "2021-09-21 08:13:53.331000+00:00     1\n",
       "2021-09-23 13:51:18.757000+00:00     1\n",
       "2021-09-25 12:05:58.820000+00:00     1\n",
       "2021-09-24 17:44:09.211000+00:00     1\n",
       "2021-09-21 11:35:53.646000+00:00     1\n",
       "Name: created_at, Length: 9751, dtype: int64"
      ]
     },
     "execution_count": 19,
     "metadata": {},
     "output_type": "execute_result"
    }
   ],
   "source": [
    "#inspect column 'created_at'\n",
    "df['created_at'].value_counts(dropna=False)"
   ]
  },
  {
   "cell_type": "code",
   "execution_count": 20,
   "metadata": {},
   "outputs": [
    {
     "data": {
      "text/plain": [
       "SwanPay         36110\n",
       "Badgerbank      29007\n",
       "KiwiPay         20876\n",
       "Fox Energy      17137\n",
       "Beaver Bank     12408\n",
       "Moose Money     12396\n",
       "Skink Solar      9904\n",
       "Eagle Energy     8103\n",
       "Name: client_name, dtype: int64"
      ]
     },
     "execution_count": 20,
     "metadata": {},
     "output_type": "execute_result"
    }
   ],
   "source": [
    "#inspect column 'client_name'\n",
    "df['client_name'].value_counts(dropna=False)"
   ]
  },
  {
   "cell_type": "code",
   "execution_count": 21,
   "metadata": {},
   "outputs": [
    {
     "data": {
      "text/plain": [
       "BNPL          69382\n",
       "CreditCard    41415\n",
       "Energy        35144\n",
       "Name: product_type, dtype: int64"
      ]
     },
     "execution_count": 21,
     "metadata": {},
     "output_type": "execute_result"
    }
   ],
   "source": [
    "#inspect column 'product_type'\n",
    "df['product_type'].value_counts(dropna=False)"
   ]
  },
  {
   "cell_type": "code",
   "execution_count": 22,
   "metadata": {},
   "outputs": [
    {
     "data": {
      "text/plain": [
       "UK    82254\n",
       "CA    32907\n",
       "NZ    30780\n",
       "Name: client_country, dtype: int64"
      ]
     },
     "execution_count": 22,
     "metadata": {},
     "output_type": "execute_result"
    }
   ],
   "source": [
    "#inspect column 'client_country'\n",
    "df['client_country'].value_counts(dropna=False)"
   ]
  },
  {
   "cell_type": "code",
   "execution_count": 23,
   "metadata": {},
   "outputs": [
    {
     "data": {
      "text/plain": [
       "Email    90849\n",
       "SMS      55092\n",
       "Name: channel, dtype: int64"
      ]
     },
     "execution_count": 23,
     "metadata": {},
     "output_type": "execute_result"
    }
   ],
   "source": [
    "#inspect column 'channel'\n",
    "df['channel'].value_counts(dropna=False)"
   ]
  },
  {
   "attachments": {},
   "cell_type": "markdown",
   "metadata": {},
   "source": [
    "Initial observations:\n",
    "1. There no duplicate rows.\n",
    "2. Data have been consistent and clean. There are no entries not following the defined format for each field.\n",
    "3. There's plenty of missing values under the columns age, customer_country, and gender. This accounts for a large percent of data."
   ]
  },
  {
   "attachments": {},
   "cell_type": "markdown",
   "metadata": {},
   "source": [
    "2. Data Cleansing"
   ]
  },
  {
   "cell_type": "code",
   "execution_count": 24,
   "metadata": {},
   "outputs": [
    {
     "data": {
      "text/plain": [
       "M    89331\n",
       "F    56610\n",
       "Name: gender, dtype: int64"
      ]
     },
     "execution_count": 24,
     "metadata": {},
     "output_type": "execute_result"
    }
   ],
   "source": [
    "#impute the missing categorical values in gender column\n",
    "\n",
    "df2 = df.copy()\n",
    "df2['gender'] = df2['gender'].fillna(df['gender'].mode()[0])\n",
    "df2['gender'].value_counts(dropna=False)"
   ]
  },
  {
   "cell_type": "code",
   "execution_count": 25,
   "metadata": {},
   "outputs": [
    {
     "data": {
      "text/plain": [
       "count    145941.000000\n",
       "mean         42.956431\n",
       "std          17.674402\n",
       "min          18.000000\n",
       "25%          26.000000\n",
       "50%          44.000000\n",
       "75%          55.000000\n",
       "max          96.000000\n",
       "Name: age, dtype: float64"
      ]
     },
     "execution_count": 25,
     "metadata": {},
     "output_type": "execute_result"
    }
   ],
   "source": [
    "#interpolate the missing values in age column\n",
    "\n",
    "df2['age'] = df2['age'].interpolate(kind='cubic')\n",
    "df2['age'].describe()"
   ]
  },
  {
   "cell_type": "code",
   "execution_count": 42,
   "metadata": {},
   "outputs": [
    {
     "data": {
      "text/plain": [
       "UK    49146\n",
       "CA    33911\n",
       "NZ    32738\n",
       "Name: customer_country, dtype: int64"
      ]
     },
     "execution_count": 42,
     "metadata": {},
     "output_type": "execute_result"
    }
   ],
   "source": [
    "#drop rows with missing customer_country values\n",
    "df3 = df2.dropna(axis=0, subset=['customer_country'])\n",
    "df3['customer_country'].value_counts(dropna=False)"
   ]
  },
  {
   "cell_type": "code",
   "execution_count": 43,
   "metadata": {},
   "outputs": [
    {
     "name": "stdout",
     "output_type": "stream",
     "text": [
      "                  Total Missing  % Missing\n",
      "message_id                    0        0.0\n",
      "customer_id                   0        0.0\n",
      "sent_at                       0        0.0\n",
      "clicked                       0        0.0\n",
      "converted                     0        0.0\n",
      "client_id                     0        0.0\n",
      "gender                        0        0.0\n",
      "customer_country              0        0.0\n",
      "age                           0        0.0\n",
      "created_at                    0        0.0\n",
      "client_name                   0        0.0\n",
      "product_type                  0        0.0\n",
      "client_country                0        0.0\n",
      "channel                       0        0.0\n",
      "message_number                0        0.0\n"
     ]
    }
   ],
   "source": [
    "#check for missing values\n",
    "nullval = df3.isnull().sum().sort_values(ascending=False)\n",
    "percent = (df3.isnull().sum()/df3.isnull().count()).sort_values(ascending=False) * 100\n",
    "missing = pd.concat([nullval, percent], axis=1, keys=['Total Missing', '% Missing'])\n",
    "\n",
    "print(missing)"
   ]
  },
  {
   "cell_type": "code",
   "execution_count": 44,
   "metadata": {},
   "outputs": [
    {
     "data": {
      "text/plain": [
       "(115795, 14)"
      ]
     },
     "execution_count": 44,
     "metadata": {},
     "output_type": "execute_result"
    }
   ],
   "source": [
    "#drop message_number column\n",
    "df_final = df3.drop('message_number', axis=1)\n",
    "df_final.shape"
   ]
  },
  {
   "attachments": {},
   "cell_type": "markdown",
   "metadata": {},
   "source": [
    "3. Check relationships"
   ]
  },
  {
   "cell_type": "code",
   "execution_count": 45,
   "metadata": {},
   "outputs": [
    {
     "name": "stdout",
     "output_type": "stream",
     "text": [
      "customer_country     CA     NZ     UK\n",
      "client_name                          \n",
      "Badgerbank         2554   4387  15971\n",
      "Beaver Bank       10372    532    566\n",
      "Eagle Energy       6772    479    407\n",
      "Fox Energy         1016   2782   9225\n",
      "KiwiPay             502  11868   2009\n",
      "Moose Money       10056    756    594\n",
      "Skink Solar         497   5775   1195\n",
      "SwanPay            2142   6159  19179\n"
     ]
    }
   ],
   "source": [
    "#check distribution of customers across clients\n",
    "pivot_client = pd.pivot_table(df_final, index='client_name', columns='customer_country', values='customer_id', aggfunc='count')\n",
    "print(pivot_client)"
   ]
  },
  {
   "cell_type": "code",
   "execution_count": 46,
   "metadata": {},
   "outputs": [
    {
     "name": "stdout",
     "output_type": "stream",
     "text": [
      "customer_country     CA     NZ     UK\n",
      "product_type                         \n",
      "BNPL              12700  18783  21782\n",
      "CreditCard        12926   4919  16537\n",
      "Energy             8285   9036  10827\n"
     ]
    }
   ],
   "source": [
    "#check distribution of customers across products\n",
    "pivot_products = pd.pivot_table(df_final, index='product_type', columns='customer_country', values='customer_id', aggfunc='count')\n",
    "print(pivot_products)"
   ]
  },
  {
   "cell_type": "code",
   "execution_count": 47,
   "metadata": {},
   "outputs": [
    {
     "data": {
      "text/html": [
       "<div>\n",
       "<style scoped>\n",
       "    .dataframe tbody tr th:only-of-type {\n",
       "        vertical-align: middle;\n",
       "    }\n",
       "\n",
       "    .dataframe tbody tr th {\n",
       "        vertical-align: top;\n",
       "    }\n",
       "\n",
       "    .dataframe thead th {\n",
       "        text-align: right;\n",
       "    }\n",
       "</style>\n",
       "<table border=\"1\" class=\"dataframe\">\n",
       "  <thead>\n",
       "    <tr style=\"text-align: right;\">\n",
       "      <th></th>\n",
       "      <th>clicked</th>\n",
       "      <th>converted</th>\n",
       "      <th>age</th>\n",
       "    </tr>\n",
       "  </thead>\n",
       "  <tbody>\n",
       "    <tr>\n",
       "      <th>count</th>\n",
       "      <td>115795.000000</td>\n",
       "      <td>115795.000000</td>\n",
       "      <td>115795.000000</td>\n",
       "    </tr>\n",
       "    <tr>\n",
       "      <th>mean</th>\n",
       "      <td>0.067611</td>\n",
       "      <td>0.022859</td>\n",
       "      <td>43.233906</td>\n",
       "    </tr>\n",
       "    <tr>\n",
       "      <th>std</th>\n",
       "      <td>0.251078</td>\n",
       "      <td>0.149456</td>\n",
       "      <td>17.700597</td>\n",
       "    </tr>\n",
       "    <tr>\n",
       "      <th>min</th>\n",
       "      <td>0.000000</td>\n",
       "      <td>0.000000</td>\n",
       "      <td>18.000000</td>\n",
       "    </tr>\n",
       "    <tr>\n",
       "      <th>25%</th>\n",
       "      <td>0.000000</td>\n",
       "      <td>0.000000</td>\n",
       "      <td>26.000000</td>\n",
       "    </tr>\n",
       "    <tr>\n",
       "      <th>50%</th>\n",
       "      <td>0.000000</td>\n",
       "      <td>0.000000</td>\n",
       "      <td>44.000000</td>\n",
       "    </tr>\n",
       "    <tr>\n",
       "      <th>75%</th>\n",
       "      <td>0.000000</td>\n",
       "      <td>0.000000</td>\n",
       "      <td>55.000000</td>\n",
       "    </tr>\n",
       "    <tr>\n",
       "      <th>max</th>\n",
       "      <td>1.000000</td>\n",
       "      <td>1.000000</td>\n",
       "      <td>96.000000</td>\n",
       "    </tr>\n",
       "  </tbody>\n",
       "</table>\n",
       "</div>"
      ],
      "text/plain": [
       "             clicked      converted            age\n",
       "count  115795.000000  115795.000000  115795.000000\n",
       "mean        0.067611       0.022859      43.233906\n",
       "std         0.251078       0.149456      17.700597\n",
       "min         0.000000       0.000000      18.000000\n",
       "25%         0.000000       0.000000      26.000000\n",
       "50%         0.000000       0.000000      44.000000\n",
       "75%         0.000000       0.000000      55.000000\n",
       "max         1.000000       1.000000      96.000000"
      ]
     },
     "execution_count": 47,
     "metadata": {},
     "output_type": "execute_result"
    }
   ],
   "source": [
    "df_final.describe()"
   ]
  },
  {
   "cell_type": "code",
   "execution_count": 48,
   "metadata": {},
   "outputs": [
    {
     "data": {
      "text/html": [
       "<div>\n",
       "<style scoped>\n",
       "    .dataframe tbody tr th:only-of-type {\n",
       "        vertical-align: middle;\n",
       "    }\n",
       "\n",
       "    .dataframe tbody tr th {\n",
       "        vertical-align: top;\n",
       "    }\n",
       "\n",
       "    .dataframe thead th {\n",
       "        text-align: right;\n",
       "    }\n",
       "</style>\n",
       "<table border=\"1\" class=\"dataframe\">\n",
       "  <thead>\n",
       "    <tr style=\"text-align: right;\">\n",
       "      <th></th>\n",
       "      <th>clicked</th>\n",
       "      <th>converted</th>\n",
       "      <th>age</th>\n",
       "    </tr>\n",
       "  </thead>\n",
       "  <tbody>\n",
       "    <tr>\n",
       "      <th>clicked</th>\n",
       "      <td>1.000000</td>\n",
       "      <td>0.567994</td>\n",
       "      <td>-0.084022</td>\n",
       "    </tr>\n",
       "    <tr>\n",
       "      <th>converted</th>\n",
       "      <td>0.567994</td>\n",
       "      <td>1.000000</td>\n",
       "      <td>-0.074575</td>\n",
       "    </tr>\n",
       "    <tr>\n",
       "      <th>age</th>\n",
       "      <td>-0.084022</td>\n",
       "      <td>-0.074575</td>\n",
       "      <td>1.000000</td>\n",
       "    </tr>\n",
       "  </tbody>\n",
       "</table>\n",
       "</div>"
      ],
      "text/plain": [
       "            clicked  converted       age\n",
       "clicked    1.000000   0.567994 -0.084022\n",
       "converted  0.567994   1.000000 -0.074575\n",
       "age       -0.084022  -0.074575  1.000000"
      ]
     },
     "execution_count": 48,
     "metadata": {},
     "output_type": "execute_result"
    }
   ],
   "source": [
    "df_final.corr()"
   ]
  },
  {
   "attachments": {},
   "cell_type": "markdown",
   "metadata": {},
   "source": [
    "Final notes:\n",
    "1. The dataset has been inspected and the problem of missing values addressed.\n",
    "2. The initial relationship shows that customers are well-distributed across clients and products. We'll explore of the relationships using Tableau.\n",
    "3. There doesn't seem to be any strong correlation among the quantitative data."
   ]
  },
  {
   "cell_type": "code",
   "execution_count": 50,
   "metadata": {},
   "outputs": [],
   "source": [
    "#export the cleaned up dataset to csv\n",
    "import os\n",
    "\n",
    "csvpath = \"communications2.csv\"\n",
    "\n",
    "if os.path.exists(csvpath):\n",
    "    df_final.to_csv(csvpath, index=False, header=True)\n",
    "else:\n",
    "    df3_final.to_csv(csvpath, index=False, header=True)"
   ]
  }
 ],
 "metadata": {
  "kernelspec": {
   "display_name": "base",
   "language": "python",
   "name": "python3"
  },
  "language_info": {
   "codemirror_mode": {
    "name": "ipython",
    "version": 3
   },
   "file_extension": ".py",
   "mimetype": "text/x-python",
   "name": "python",
   "nbconvert_exporter": "python",
   "pygments_lexer": "ipython3",
   "version": "3.9.7"
  },
  "orig_nbformat": 4
 },
 "nbformat": 4,
 "nbformat_minor": 2
}
